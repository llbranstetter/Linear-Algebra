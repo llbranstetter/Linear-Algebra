{
 "cells": [
  {
   "cell_type": "markdown",
   "metadata": {},
   "source": [
    "# Programming Assignment 6 (PA6): Inverse Kinematics\n",
    "\n",
    "### CS70 — Foundations of Applied Computer Science\n",
    "---\n",
    "\n",
    "This notebook contains literate code, i.e. brief fragments of Python surrounded by descriptive text (using Markdown). Please complete/extend this notebook for your homework submission:\n",
    "\n",
    "* For any mathematical questions, make sure to **show you work**.\n",
    "* For any questions that ask for code, please **also provide a short description of what your solution is doing and how it works**, either by adding comments or in an extra markdown cell.\n",
    "\n",
    "Make sure to use the reference Python distribution so that project files can be opened by the TAs. In this course, we use [Anaconda](https://www.anaconda.com/products/individual), specifically the version based on Python 3.8.\n",
    "\n",
    "<div class=\"alert alert-warning\">\n",
    "Homework assignments in CS70 count towards your final grade and must therefore be done individually.\n",
    "</div>\n",
    "\n",
    "$$\n",
    "\\newcommand{\\vp}{\\mathbf{p}}\n",
    "\\newcommand{\\vx}{\\mathbf{x}}\n",
    "\\newcommand{\\vf}{\\mathbf{f}}\n",
    "\\newcommand{\\mA}{\\mathbf{A}}\n",
    "$$"
   ]
  },
  {
   "cell_type": "markdown",
   "metadata": {},
   "source": [
    "## Import statements\n",
    "\n",
    "We provide the import statements required to complete the assignment in the following cell. \n",
    "\n",
    "<div class=\"alert alert-danger\" role=\"alert\">\n",
    "    <b>Import policy:</b> You must not use any <code>import</code>'s other than the ones we provide.\n",
    "</div>"
   ]
  },
  {
   "cell_type": "markdown",
   "metadata": {},
   "source": [
    "In this assignment, we will make use a library called **[bqplot](https://github.com/bloomberg/bqplot)** developed by Bloomberg, which enables fully interactive plots within the Jupyter notebook. By default, this library is not part of the Anaconda Python distribution, but the CS70 environment we provided should have installed it for you.\n",
    "\n",
    "If bqplot was installed correctly, the commands in the following cell should display a figure with a pie chart."
   ]
  },
  {
   "cell_type": "code",
   "execution_count": 20,
   "metadata": {
    "execution": {
     "iopub.execute_input": "2023-01-04T03:28:26.893056Z",
     "iopub.status.busy": "2023-01-04T03:28:26.892368Z",
     "iopub.status.idle": "2023-01-04T03:28:27.977985Z",
     "shell.execute_reply": "2023-01-04T03:28:27.976932Z"
    },
    "scrolled": true
   },
   "outputs": [
    {
     "data": {
      "application/vnd.jupyter.widget-view+json": {
       "model_id": "7c3d0f7831c3480a8bce29c5f1993019",
       "version_major": 2,
       "version_minor": 0
      },
      "text/plain": [
       "Figure(fig_margin={'top': 60, 'bottom': 60, 'left': 60, 'right': 60}, marks=[Pie(colors=['#1f77b4', '#ff7f0e',…"
      ]
     },
     "execution_count": 20,
     "metadata": {},
     "output_type": "execute_result"
    }
   ],
   "source": [
    "import bqplot as bqp\n",
    "bqp.Figure(marks=[bqp.Pie(sizes=range(1, 6))], title='A pie chart!')"
   ]
  },
  {
   "cell_type": "markdown",
   "metadata": {},
   "source": [
    "If you received an error related to bqplot above, walk through the instructions below to install that package. Afterwards, you will have to **restart** Jupyter notebook for the change to become effective, and then try to run the notebook from the top again."
   ]
  },
  {
   "cell_type": "markdown",
   "metadata": {},
   "source": [
    "### Installing additional prerequisites\n",
    "\n",
    "To install bqplot, open the console (``cmd.exe`` on Windows or the standard terminal on Linux or MacOS) and enter the following commands.\n",
    "\n",
    "```\n",
    "pip install bqplot\n",
    "jupyter nbextension enable --py --sys-prefix bqplot\n",
    "jupyter nbextension enable --py --sys-prefix widgetsnbextension\n",
    "```\n",
    "\n",
    "**However**, note that some systems like MacOS ship a with default version of Python that is very old and outdated. To ensure that the right versions of the ``pip`` and ``jupyter`` commands are executed, it's safer to first navigate to the directory where Anaconda was installed and then execute the commands there. The following screenshots show how to do this on the various supported platforms (note the ``./`` prefix on Linux and Mac OS).\n",
    "\n",
    "![bqplot.jpg](attachment:bqplot.jpg)"
   ]
  },
  {
   "cell_type": "code",
   "execution_count": 21,
   "metadata": {
    "execution": {
     "iopub.execute_input": "2023-01-04T03:28:27.980988Z",
     "iopub.status.busy": "2023-01-04T03:28:27.980570Z",
     "iopub.status.idle": "2023-01-04T03:28:28.178175Z",
     "shell.execute_reply": "2023-01-04T03:28:28.178438Z"
    }
   },
   "outputs": [],
   "source": [
    "import numpy as np\n",
    "import scipy.linalg as la\n",
    "\n",
    "# New: Optimization package\n",
    "import scipy.optimize as opt\n",
    "\n",
    "# bqplot plotting library\n",
    "import bqplot as bqp\n",
    "\n",
    "# Import graphical user interface components used below\n",
    "from ipywidgets import interact\n",
    "from ipywidgets import FloatSlider, VBox"
   ]
  },
  {
   "attachments": {
    "inverse-kinematics-01.png": {
     "image/png": "[encoded data removed]"
    }
   },
   "cell_type": "markdown",
   "metadata": {},
   "source": [
    "\n",
    "## Part 1: Forward Kinematics\n",
    "\n",
    "In this exercise, we'll investigate the mathematics of a very simple kind of \"skeleton\": a chain of bones in two dimensions with joint positions $\\vp_i = (x_i, y_i)$. The first joint is rigidly attached to the origin (i.e. $\\vp_0 = (0, 0)$) while the other joints and bones are free to move in any way. For simplicitly, we'll also assume that all of the bones have the same length $l_1=l_2=\\ldots=1$.\n",
    "\n",
    "![inverse-kinematics-01.png](attachment:inverse-kinematics-01.png)\n",
    "\n",
    "Each parameter $\\theta_i\\in[0,2\\pi]$ specifies the counter-clockwise angle that the associated bone from joint $\\vp_{i-1}$ to joint $\\vp_i$ makes with its predecessor bone (the pair of bones are parallel if $\\theta_i=0$). The first bone doesn't have a predecessor, hence $\\theta_1$ is measured relative to the $X$ axis. Note how the complete set of bone angles $\\theta_1, \\theta_2, \\ldots$ is all the information we need to compute the precise positions of all the joint positions in Euclidean space.\n",
    "\n",
    "Forward kinematics (FK) is defined as the problem of converting a set of bone angles $\\theta_i$ into joint positions $\\vp_i$. Since $\\vp_i$ depends on all of the preceding angles, we can think of each joint position as a function $\\vp_i=\\vp(\\theta_1,\\ldots,\\theta_{i})$ "
   ]
  },
  {
   "cell_type": "markdown",
   "metadata": {},
   "source": [
    "## 1.1 A simple 1-segment chain\n",
    "\n",
    "<div class=\"alert alert-info\" role=\"alert\">\n",
    "\n",
    "**TODO:** Your first task is to create a function `chain_simple`, which solves the forward kinematics for a chain with at most one bone. The function should take an array of angles as a parameter, which can be of length 0 or 1 (use the Python `len()` function to query the length of an array). When no angles are specified, the function should return the position of the first joint $(x_0,y_0)=(0, 0)$ as a 1D NumPy array. When a single angle is specified, it should return the position $x_1, y_1$.\n",
    "\n",
    "Ensure that your implementation returns the expected example values in the cell below (up to minor rounding errors).\n",
    "</div>"
   ]
  },
  {
   "cell_type": "code",
   "execution_count": 42,
   "metadata": {
    "execution": {
     "iopub.execute_input": "2023-01-04T03:28:28.182522Z",
     "iopub.status.busy": "2023-01-04T03:28:28.182078Z",
     "iopub.status.idle": "2023-01-04T03:28:28.183864Z",
     "shell.execute_reply": "2023-01-04T03:28:28.183627Z"
    }
   },
   "outputs": [
    {
     "name": "stdout",
     "output_type": "stream",
     "text": [
      "chain_simple: [0. 0.]\n",
      "reference:    [0. 0.]\n",
      "\n",
      "chain_simple: [1. 0.]\n",
      "reference:    [1. 0.]\n",
      "\n",
      "chain_simple: [0.70710678 0.70710678]\n",
      "reference:    [0.70710678 0.70710678]\n"
     ]
    }
   ],
   "source": [
    "# TODO\n",
    "def chain_simple(theta):\n",
    "\n",
    "    p1 = np.array([0.,0.])\n",
    "    length = len(theta)\n",
    "    \n",
    "    if length == 0:\n",
    "        # Return 0 array if theta is empty\n",
    "        return p1\n",
    "    elif length == 1:\n",
    "        arr = np.array([1., 0.])\n",
    "        rotate = np.array([[np.cos(theta[0]), -np.sin(theta[0])],\n",
    "                          [np.sin(theta[0]), np.cos(theta[0])]])\n",
    "        return rotate@arr + p1\n",
    "\n",
    "# TESTS (Do not modify!)\n",
    "print('chain_simple:', chain_simple([]))\n",
    "print('reference:   ', np.array([0.,0.]))\n",
    "print()\n",
    "print('chain_simple:', chain_simple([0.]))\n",
    "print('reference:   ', np.array([1., 0.]))\n",
    "print()\n",
    "print('chain_simple:', chain_simple([np.pi / 4]))\n",
    "print('reference:   ', np.array([ 0.70710678,  0.70710678]))\n"
   ]
  },
  {
   "cell_type": "markdown",
   "metadata": {},
   "source": [
    "## 1.2 Visualization of the forward kinematics\n",
    "\n",
    "### Helper function\n",
    "\n",
    "We provide the function ``fk_demo()`` below to interactively explore the possible chain configurations via forward kinematics. The implementation uses the ``bqplot`` library mentioned above and is fairly technical. You are welcomed but not expected to read or understand how it works."
   ]
  },
  {
   "cell_type": "code",
   "execution_count": 43,
   "metadata": {
    "execution": {
     "iopub.execute_input": "2023-01-04T03:28:28.190333Z",
     "iopub.status.busy": "2023-01-04T03:28:28.189955Z",
     "iopub.status.idle": "2023-01-04T03:28:28.191206Z",
     "shell.execute_reply": "2023-01-04T03:28:28.191490Z"
    }
   },
   "outputs": [],
   "source": [
    "def fk_demo(chain_func, theta, extra = [[],[]]):\n",
    "    '''\n",
    "    This function visualizes the configuration of a chain of bones\n",
    "    and permits interactive changes to its state. It expects two arguments:\n",
    "    \n",
    "    ``chain_func``: a function that implements forward kinematics by\n",
    "    turning a sequence of angles (theta_1, theta_2, ..., theta_n) into\n",
    "    the position of the last joint of this chain (x_n, y_n).\n",
    "    \n",
    "    ``theta``: an array with the initial angles of all joints\n",
    "    \n",
    "    ``extra``: An optional argument which can be used to plot\n",
    "    additional points that are highlighted in red\n",
    "    '''\n",
    "    \n",
    "    # Function which repeatedly calls ``chain_func`` to compute all joint positions\n",
    "    def chain_all(theta):\n",
    "        return np.column_stack([chain_func(theta[:i]) for i in range(0, len(theta) + 1)])\n",
    "\n",
    "    # Determine size and initial configuration\n",
    "    size = len(theta)\n",
    "    positions = chain_all(theta)\n",
    "\n",
    "    # Define the range of the plotting frame\n",
    "    scales = { 'x': bqp.LinearScale(min=-size-1, max=size+1),\n",
    "               'y': bqp.LinearScale(min=-size-1, max=size+1) }\n",
    "\n",
    "    # Create a scatter plot (for joints), a line plot (for bones), and\n",
    "    # another scatter plot (to draw extra points specified the ``extra`` argument)\n",
    "    scat  = bqp.Scatter(scales=scales)\n",
    "    lines = bqp.Lines(scales=scales)\n",
    "    scat2 = bqp.Scatter(scales=scales, colors=['red'])\n",
    "\n",
    "    # Create a figure that combines the three plots\n",
    "    figure = bqp.Figure(marks=[scat, scat2, lines])\n",
    "    figure.layout.height = '500px'\n",
    "    figure.layout.width = '500px'\n",
    "\n",
    "    # Initialize the plots with the initial data\n",
    "    scat.x, scat.y = positions\n",
    "    lines.x, lines.y = positions\n",
    "    scat2.x, scat2.y = extra\n",
    "    \n",
    "    sliders = []\n",
    "    \n",
    "    # For each angle theta_i,\n",
    "    for i in range(len(theta)):\n",
    "        # Create a graphical slider\n",
    "        slider = FloatSlider(min=0, max=2*np.pi, value=theta[i], step=1e-3)\n",
    "        \n",
    "        # Define a callback function that will be triggered when the slider is moved\n",
    "        def callback(value, i = i):\n",
    "            theta[i] = value['new']\n",
    "            positions = chain_all(theta)\n",
    "            scat.x, scat.y = positions\n",
    "            lines.x, lines.y = positions\n",
    "\n",
    "        # \"Attach\" the callback function to the slider\n",
    "        slider.observe(callback, 'value')\n",
    "        sliders.append(slider)\n",
    "\n",
    "    # Combine the plots and sliders in a vertical arrangement\n",
    "    return VBox([*sliders, figure])"
   ]
  },
  {
   "cell_type": "markdown",
   "metadata": {},
   "source": [
    "<div class=\"alert alert-info\" role=\"alert\">\n",
    "\n",
    "**TODO:** To ensure that your implementation of `chain_simple` satisfies all the specifications, invoke the `fk_demo()` function with arguments `chain_simple` and ``[0.]`` (the initial parameters of a flat chain). You should be able to drag a slider from 0 to $2\\pi$ and see a visual representation of a 1-bone chain turning counter-clockwise.\n",
    "</div>"
   ]
  },
  {
   "cell_type": "code",
   "execution_count": 44,
   "metadata": {
    "execution": {
     "iopub.execute_input": "2023-01-04T03:28:28.193520Z",
     "iopub.status.busy": "2023-01-04T03:28:28.193178Z",
     "iopub.status.idle": "2023-01-04T03:28:28.194603Z",
     "shell.execute_reply": "2023-01-04T03:28:28.194893Z"
    }
   },
   "outputs": [
    {
     "data": {
      "application/vnd.jupyter.widget-view+json": {
       "model_id": "b4acc46014f14daa996a3d9ef6e08f88",
       "version_major": 2,
       "version_minor": 0
      },
      "text/plain": [
       "VBox(children=(FloatSlider(value=0.0, max=6.283185307179586, step=0.001), Figure(fig_margin={'top': 60, 'botto…"
      ]
     },
     "execution_count": 44,
     "metadata": {},
     "output_type": "execute_result"
    }
   ],
   "source": [
    "# TODO\n",
    "fk_demo(chain_simple, [0.])\n"
   ]
  },
  {
   "cell_type": "markdown",
   "metadata": {},
   "source": [
    "## 1.3 Longer chains\n",
    "\n",
    "<div class=\"alert alert-info\" role=\"alert\">\n",
    "\n",
    "**TODO:** Create a function `chain`, which solves the forward kinematics for an arbitrarily long sequence of bones. The function should take an arbitrary-length array of angles as a parameter. When no angles are specified, the function should return the position $(x_0, y_0)$ as before. When $i$ angles are specified, it should (only) return  the joint position $(x_{i}, y_{i})$. You'll likely want to use recursion, which allows for a particularly simple implementation.\n",
    "\n",
    "Ensure that your implementation returns the expected example values in the cell below (up to minor rounding errors).\n",
    "</div>"
   ]
  },
  {
   "cell_type": "code",
   "execution_count": 45,
   "metadata": {
    "execution": {
     "iopub.execute_input": "2023-01-04T03:28:28.198144Z",
     "iopub.status.busy": "2023-01-04T03:28:28.197724Z",
     "iopub.status.idle": "2023-01-04T03:28:28.199178Z",
     "shell.execute_reply": "2023-01-04T03:28:28.199411Z"
    }
   },
   "outputs": [
    {
     "name": "stdout",
     "output_type": "stream",
     "text": [
      "chain:      [3.31597858 1.80146708]\n",
      "reference:  [3.31597858 1.80146708]\n",
      "\n",
      "chain:      [ 0.0000000e+00 -2.4492936e-16]\n",
      "reference:  [0 0]\n"
     ]
    }
   ],
   "source": [
    "# TODO\n",
    "def chain(theta):\n",
    "    \n",
    "   # Base case: no angles left, return the origin\n",
    "    if len(theta) == 0:\n",
    "        return chain_simple(theta)  # Use np.array for consistency\n",
    "    \n",
    "    else:\n",
    "        # Extract the first angle from the list\n",
    "        angle = theta[0]\n",
    "        \n",
    "        # Remove the first angle from the list (use slicing)\n",
    "        theta_new = theta[1:]\n",
    "        \n",
    "        # Calculate the position for the first angle\n",
    "        position = chain_simple([angle])\n",
    "        \n",
    "        # Define the transformation matrix for the current angle\n",
    "        base = np.array([[position[0], -position[1]],\n",
    "                         [position[1], position[0]]])\n",
    "        \n",
    "        return position + base@chain(theta_new)\n",
    "# TESTS (Do not modify!)\n",
    "print('chain:     ', chain([0.1, 0.2, 0.3, 0.4]))\n",
    "print('reference: ', np.array([ 3.31597858,  1.80146708]))\n",
    "print()\n",
    "print('chain:     ', chain([np.pi, np.pi, np.pi, np.pi]))\n",
    "print('reference: ', np.array([0, 0]))\n"
   ]
  },
  {
   "cell_type": "markdown",
   "metadata": {},
   "source": [
    "## 1.4 Attempting to reach a certain position\n",
    "\n",
    "Uncomment the command `fk_demo(chain, [0, 0, 0, 0, 0], [[-2], [3]])` in the cell below. You should see a chain with five segments and five corresponding sliders, as well as an additional point highlighted in red.\n",
    "\n",
    "<div class=\"alert alert-info\" role=\"alert\">\n",
    "\n",
    "**TODO:** Find a configuration of angles that brings the endpoint of the chain as close as possible to the highlighted location `[-2, 3]]`. An exact match is not necessary, but the points should overlap by a significant margin. Before you finish, make sure to copy the parameters you found into the argment list of the `fk_demo` function call so it shows up automatically for us when grading.\n",
    "\n",
    "</div>"
   ]
  },
  {
   "cell_type": "code",
   "execution_count": 47,
   "metadata": {
    "execution": {
     "iopub.execute_input": "2023-01-04T03:28:28.201338Z",
     "iopub.status.busy": "2023-01-04T03:28:28.201005Z",
     "iopub.status.idle": "2023-01-04T03:28:28.202368Z",
     "shell.execute_reply": "2023-01-04T03:28:28.202593Z"
    }
   },
   "outputs": [
    {
     "data": {
      "application/vnd.jupyter.widget-view+json": {
       "model_id": "0e82b7474333432b8f2848d3c231c218",
       "version_major": 2,
       "version_minor": 0
      },
      "text/plain": [
       "VBox(children=(FloatSlider(value=0.8, max=6.283185307179586, step=0.001), FloatSlider(value=0.92, max=6.283185…"
      ]
     },
     "execution_count": 47,
     "metadata": {},
     "output_type": "execute_result"
    }
   ],
   "source": [
    "# TODO:\n",
    "fk_demo(chain, [0, 0, 0, 0, 0], [[-2], [3]])\n",
    "fk_demo(chain, [.80, 0.92, .80, 6.22, .59], [[-2], [3]])\n"
   ]
  },
  {
   "attachments": {
    "inverse-kinematics-04.png": {
     "image/png": "[encoded data removed]"
    }
   },
   "cell_type": "markdown",
   "metadata": {},
   "source": [
    "# Part 2: Inverse Kinematics\n",
    "\n",
    "Problems similar to the one in Section 1.4 are tedious to solve by hand: all of the parameters are interdependent and must be adjusted in a coordinated manner. So-called *inverse kinematics* techniques apply numerical root finding to determine solutions to this problem in an automated way. Most modern animation systems have builtin support for inverse kinematics since it allows for a much more convenient workflow: rather than having to tweak each individual bone, artists can directly specify a target shape, and the system will automatically infer all the necessary rotations.\n",
    "\n",
    "In this part of the exercise, we will use inverse kinematics to automatically determine $\\theta_1,\\ldots,\\theta_n$ such that\n",
    "\n",
    "$$\n",
    "\\vp(\\theta_1,\\ldots,\\theta_n) = \\vp_{\\mathrm{target}}\n",
    "$$\n",
    "\n",
    "for a given value $\\vp_{\\mathrm{target}}\\in\\mathbb{R}^2$. In other words: the user can move around the endpoint of the chain, and the skeleton will automatically reconfigure itself to follow. This is illustrated in the following figure:\n",
    "\n",
    "![inverse-kinematics-04.png](attachment:inverse-kinematics-04.png)\n",
    "\n",
    "All good numerical root finding techniques require the ability to evaluate the Jacobian of $\\vp$, i.e. all the partial derivatives $\\frac{\\partial\\vp(\\theta_1,\\ldots,\\theta_n)}{\\partial \\theta_j}$. The partial derivatives encode how a small perturbation of each of the angles $\\theta_j$ leads to a corresponding change in $\\vp(\\theta_1,\\ldots,\\theta_n)$."
   ]
  },
  {
   "cell_type": "markdown",
   "metadata": {},
   "source": [
    "## 2.1 A simple 1-segment chain\n",
    "\n",
    "As before, we'll first look at a 1-segment chain and then derive a solution for the general problem.\n",
    " \n",
    "<div class=\"alert alert-info\" role=\"alert\">\n",
    "\n",
    "**TODO:** Implement a function `dchain_simple(theta)` which takes an array with one entry, and which computes the function $\\frac{\\partial \\vp(\\theta_1)}{\\partial \\theta_1}$. The return value should be a two-dimensional array with one column and two rows containing the partial derivatives of the coordinate values $x_1$ and $y_1$. You should use analytic methods – approximating the derivatives via finite differences is not allowed.\n",
    "\n",
    "Ensure that your implementation returns the expected example values in the cell below (up to minor rounding errors).\n",
    "</div>"
   ]
  },
  {
   "cell_type": "code",
   "execution_count": 59,
   "metadata": {
    "execution": {
     "iopub.execute_input": "2023-01-04T03:28:28.206164Z",
     "iopub.status.busy": "2023-01-04T03:28:28.205788Z",
     "iopub.status.idle": "2023-01-04T03:28:28.207136Z",
     "shell.execute_reply": "2023-01-04T03:28:28.207381Z"
    }
   },
   "outputs": [
    {
     "name": "stdout",
     "output_type": "stream",
     "text": [
      "dchain_simple: \n",
      " [[-0.]\n",
      " [ 1.]]\n",
      "reference:     \n",
      " [[0.]\n",
      " [1.]]\n",
      "\n",
      "dchain_simple: \n",
      " [[-0.70710678]\n",
      " [ 0.70710678]]\n",
      "reference:     \n",
      " [[-0.70710678]\n",
      " [ 0.70710678]]\n"
     ]
    }
   ],
   "source": [
    "# TODO\n",
    "def dchain_simple(theta):\n",
    "    # Compute the derivatives of x and y with respect to theta\n",
    "    dx_dtheta = -np.sin(theta)  # Derivative of x1 = cos(theta) with respect to theta\n",
    "    dy_dtheta = np.cos(theta)   # Derivative of y1 = sin(theta) with respect to theta\n",
    "    \n",
    "    # Return the derivatives as a 2x1 column vector\n",
    "    return np.array([dx_dtheta, dy_dtheta])\n",
    "\n",
    "# TESTS (Do not modify!)\n",
    "print('dchain_simple: \\n', dchain_simple([0]))\n",
    "print('reference:     \\n', np.array([[0.], [1.]]))\n",
    "print()\n",
    "print('dchain_simple: \\n', dchain_simple([np.pi / 4]))\n",
    "print('reference:     \\n', np.array([[-0.70710678], [ 0.70710678]]))\n"
   ]
  },
  {
   "cell_type": "markdown",
   "metadata": {},
   "source": [
    "## 2.2 Implementing the full Jacobian function\n",
    "\n",
    "Having finished the version for a single bone, we'll now turn to the full Jacobian $\\nabla \\vp(\\theta_1, \\ldots, \\theta_n)$, which is a $2\\times n$ matrix containing the partial derivatives with respect to all angles. You'll likely want to use a vector version of the [product](https://en.wikipedia.org/wiki/Product_rule) or [chain rule](https://en.wikipedia.org/wiki/Chain_rule) in your your implementation. Specifically, note that\n",
    "\n",
    "$$\n",
    "\\frac{\\partial}{\\partial t} \\left[\\mA(t)\\vx(t)\\right] = \\mA'(t)\\vx(t) + \\mA(t)\\vx'(t)\n",
    "$$\n",
    "\n",
    "where $\\mA(t)$ and $\\vx(t)$ are a matrix and a vector depending on a parameter $t$, respectively.\n",
    "\n",
    "<div class=\"alert alert-info\" role=\"alert\">\n",
    "\n",
    "**TODO:** Implement a function ``dchain(theta)`` which accepts an 1D array of angles with length $\\ge 1$ and computes the Jacobian $\\nabla \\vp(\\theta_1, \\ldots, \\theta_n)$, a $2\\times n$ matrix.\n",
    "\n",
    "Ensure that your implementation returns the expected example values in the cell below (up to minor rounding errors).\n",
    "\n",
    "<div>"
   ]
  },
  {
   "cell_type": "code",
   "execution_count": 61,
   "metadata": {
    "execution": {
     "iopub.execute_input": "2023-01-04T03:28:28.210876Z",
     "iopub.status.busy": "2023-01-04T03:28:28.210526Z",
     "iopub.status.idle": "2023-01-04T03:28:28.211892Z",
     "shell.execute_reply": "2023-01-04T03:28:28.212134Z"
    }
   },
   "outputs": [
    {
     "name": "stdout",
     "output_type": "stream",
     "text": [
      "dchain: \n",
      " [[-0. -0. -0. -0.]\n",
      " [ 4.  3.  2.  1.]]\n",
      "reference: \n",
      " [[0. 0. 0. 0.]\n",
      " [4. 3. 2. 1.]]\n",
      "\n",
      "dchain: \n",
      " [[-0.9599961  -0.86016268 -0.56464247]\n",
      " [ 2.77567627  1.7806721   0.82533561]]\n",
      "reference: \n",
      " [[-0.9599961  -0.86016268 -0.56464247]\n",
      " [ 2.77567627  1.7806721   0.82533561]]\n"
     ]
    }
   ],
   "source": [
    "# TODO\n",
    "def dchain(theta):\n",
    "    # Compute the first derivative using the sum of the angles\n",
    "    final_dtheta = dchain_simple(np.sum(theta))\n",
    "    \n",
    "    # Initialize the jacobian matrix with the first derivative\n",
    "    jacobian = np.array([[final_dtheta[0]],\n",
    "                        [final_dtheta[1]]])  \n",
    "    length = len(theta)\n",
    "    theta_new = theta[:-1]\n",
    "    \n",
    "    # Iterate over remaining angles and update the Jacobian\n",
    "    for i in range(length-1):\n",
    "        final_dtheta = dchain_simple(np.sum(theta_new))  # Get the derivative for the current angle\n",
    "        final_dtheta += jacobian[:, 0]\n",
    "        final_dtheta = final_dtheta.reshape(2, 1)  # Ensure it's a 2x1 matrix\n",
    "        jacobian = np.hstack([final_dtheta, jacobian])  # Stack the new derivative as a column\n",
    "        \n",
    "        theta_new = theta_new[:-1]  # Remove the last angle from the list\n",
    "    \n",
    "    return jacobian\n",
    "\n",
    "\n",
    "# TESTS (Do not modify!)\n",
    "print('dchain: \\n', dchain([0, 0, 0, 0]))\n",
    "print('reference: \\n', np.array([[ 0.,  0.,  0.,  0.], [ 4.,  3.,  2.,  1.]]))\n",
    "print()\n",
    "print('dchain: \\n', dchain([0.1, 0.2, 0.3]))\n",
    "print('reference: \\n', np.array([[-0.9599961 , -0.86016268, -0.56464247], [ 2.77567627,  1.7806721 ,  0.82533561]]))"
   ]
  },
  {
   "cell_type": "markdown",
   "metadata": {},
   "source": [
    "## 2.3 Solving the inverse kinematics problem using Newton's Method\n",
    "\n",
    "Newton's method is one of the most widely used methods for finding solutions to systems of non-linear equations. It  converges at a remarkable speed when started sufficiently close to a root, though there is generally no strict guarantee of convergence.\n",
    "\n",
    "Given a function $\\vf(\\vx)$, Newton's method tries to find a solution to the equation $\\vf = \\mathbf{0}$ using steps of the form\n",
    "\n",
    "$$\n",
    "\\vx_{i+1}=\\vx_i - \\left(\\nabla \\vf\\right)^{-1}\\vf(\\vx_{i}).\n",
    "$$\n",
    "\n",
    "In the context of inverse kinematics, we want to apply Newton's method to solve an equation of the form\n",
    "\n",
    "$$\n",
    "\\vp(\\theta_1,\\ldots,\\theta_n) = \\vp_{\\mathrm{target}}.\n",
    "$$\n",
    "\n",
    "for a given reference position $\\vp_{\\mathrm{target}}\\in\\mathbb{R}^2$.\n",
    "\n",
    "In other words: the unknowns are the angles $\\theta_1,\\ldots,\\theta_n$, and the function whose root we seek maps to a two-dimensional domain. It is not immediately obvious how to apply Newton's method, since the Jacobian of the function has the shape $2\\times n$ and hence cannot be inverted using standard techniques like the LU decomposition.\n",
    "\n",
    "This should not be surprising. It is a consequence of the fact that many different configurations can be used to reach the same $\\vp_{\\mathrm{target}}$, which you may have noticed in [part 1.4](#1.4-Attempting-to-reach-a-certain-position).\n",
    "\n",
    "Fortunately, we can use the *pseudoinverse*, a generalization of the inverse to non-square matrices. In this specific case, the Jacobian is *wide* (i.e. it has more columns than rows), in which case the pseudoinverse will find the solution to a linear system which has the smallest $\\|\\cdot\\|_2$-norm. That is excellent news, since it causes the IK solver to make small adjustments to the angles to reach a new position.\n",
    "\n",
    "<div class=\"alert alert-info\" role=\"alert\">\n",
    "\n",
    "**TODO:** Implement a function `newton(theta, target)` that takes a 1-dimensional array of angles as a starting guess as well as a 2D target position (also specified as a 1-dimensional array) as input. The implementation should perform a fixed 8 iterations of Newton's method to try to solve the equation $\\vp(\\theta_1,\\ldots,\\theta_n) = \\vp_{\\mathrm{target}}$ and return the final set of parameters $\\theta_1,\\ldots,\\theta_n$ as an 1-dimensional NumPy array. You can use the function `la.pinv` to compute the pseudoinverse.\n",
    "\n",
    "Ensure that your implementation returns the expected example values in the cell below (up to minor rounding errors).\n",
    "</div>"
   ]
  },
  {
   "cell_type": "code",
   "execution_count": 62,
   "metadata": {
    "execution": {
     "iopub.execute_input": "2023-01-04T03:28:28.215438Z",
     "iopub.status.busy": "2023-01-04T03:28:28.215016Z",
     "iopub.status.idle": "2023-01-04T03:28:28.216402Z",
     "shell.execute_reply": "2023-01-04T03:28:28.216700Z"
    }
   },
   "outputs": [
    {
     "name": "stdout",
     "output_type": "stream",
     "text": [
      "chain(newton):  [6.123234e-17 1.000000e+00]\n",
      "reference:      [0 1]\n",
      "\n",
      "chain(newton):  [0.5 0.5]\n",
      "reference:      [0.5 0.5]\n"
     ]
    }
   ],
   "source": [
    "# TODO\n",
    "\n",
    "def newton(t, target):\n",
    "    for i in range(10):\n",
    "        t = t - la.pinv(dchain(t))@(chain(t)-target)\n",
    "    return t\n",
    "\n",
    "# TESTS (Do not modify!)\n",
    "# Moving a 1-element chain from the default configuration to position (0, 1)\n",
    "print('chain(newton): ', chain(newton(np.array([0.]), np.array([0., 1.]))))\n",
    "print('reference:     ', np.array([0, 1]))\n",
    "print()\n",
    "# Moving a 2-element chain from the default configuration to position (0.5, 0.5)\n",
    "print('chain(newton): ', chain(newton(np.array([0., 0.]), np.array([0.5, 0.5]))))\n",
    "print('reference:     ', np.array([0.5, 0.5]))"
   ]
  },
  {
   "cell_type": "markdown",
   "metadata": {},
   "source": [
    "## 2.4 One more helper function\n",
    "\n",
    "We provide the function `ik_demo()` below to interactively explore the possible chain configurations via inverse kinematics. Similar to `fk_demo()`, the function is fairly technical. You are welcomed but not expected to read or understand how it works."
   ]
  },
  {
   "cell_type": "code",
   "execution_count": 66,
   "metadata": {
    "execution": {
     "iopub.execute_input": "2023-01-04T03:28:28.223120Z",
     "iopub.status.busy": "2023-01-04T03:28:28.222754Z",
     "iopub.status.idle": "2023-01-04T03:28:28.224039Z",
     "shell.execute_reply": "2023-01-04T03:28:28.224325Z"
    }
   },
   "outputs": [],
   "source": [
    "def ik_demo(solver, size):    \n",
    "    theta = np.zeros(size, dtype=np.float64)\n",
    "    \n",
    "    # Function which repeatedly calls ``chain`` to compute all joint positions\n",
    "    def chain_all(theta):\n",
    "        return np.column_stack([chain(theta[:i]) for i in range(0, len(theta) + 1)])\n",
    "\n",
    "    # Callback that is invoked when the user drags the red endpoint around\n",
    "    def refresh(_):\n",
    "        # 'theta' is a variable of the parent function, we want to modify it here\n",
    "        nonlocal theta\n",
    "        \n",
    "        # Target position\n",
    "        target = np.array([scat2.x[0], scat2.y[0]])\n",
    "        \n",
    "        # Don't try to solve the problem if the user dragged the point out of the circle\n",
    "        if la.norm(target) > size:\n",
    "            return\n",
    "        \n",
    "        # Call the provided IK solver\n",
    "        theta = solver(theta, target)\n",
    "        \n",
    "        # Update the positions\n",
    "        values = chain_all(theta)\n",
    "        scat.x, scat.y = values\n",
    "        lines.x, lines.y = values\n",
    "    \n",
    "    # Similar to fk_solver(), create a number of plots and merge them\n",
    "    scales = { 'x': bqp.LinearScale(min=-size-1, max=size+1),\n",
    "               'y': bqp.LinearScale(min=-size-1, max=size+1) }\n",
    "\n",
    "    scat  = bqp.Scatter(scales=scales)\n",
    "    lines = bqp.Lines(scales=scales)\n",
    "\n",
    "    # Create a circle which marks the boundary of where the red point can be moved\n",
    "    circle_x = np.cos(np.linspace(0, 2*np.pi, 100)) * size\n",
    "    circle_y = np.sin(np.linspace(0, 2*np.pi, 100)) * size\n",
    "    circle = bqp.Lines(x=circle_x, y=circle_y,\n",
    "                       scales=scales, colors=['gray'])\n",
    "    \n",
    "    # Special plot, which contains the red endpoint that can be moved\n",
    "    scat2 = bqp.Scatter(scales=scales,\n",
    "                        enable_move=True, \n",
    "                        update_on_move=True,\n",
    "                        colors=['red'])\n",
    "\n",
    "    # Initialize the visualizations with the default configuration\n",
    "    values = chain_all(theta)\n",
    "    scat.x, scat.y = values\n",
    "    lines.x, lines.y = values\n",
    "    scat2.x, scat2.y = chain(theta).reshape(2, 1)\n",
    "    \n",
    "    # Call the 'refresh' function when the red dot is moved\n",
    "    scat2.observe(refresh, names=['x', 'y'])\n",
    "\n",
    "    figure = bqp.Figure(marks=[scat, scat2, lines, circle])\n",
    "    figure.layout.height = '500px'\n",
    "    figure.layout.width = '500px'\n",
    "    return figure"
   ]
  },
  {
   "cell_type": "markdown",
   "metadata": {},
   "source": [
    "## 2.5 Putting everything together\n",
    "\n",
    "Finally, let's visualize the behavior of the completed inverse kinematics solver. \n",
    "\n",
    "<div class=\"alert alert-info\" role=\"alert\">\n",
    "\n",
    "**TODO:**\n",
    "    \n",
    "1. Invoke the IK demonstration with 4 segments, i.e. `ik_demo(newton, 4)`. You should be able to move the red endpoint with your mouse cursor, leading to a smooth adjustment of the chain configuration.<br><br>\n",
    "\n",
    "2. Invoke the IK demonstration with 30 segments, i.e. `ik_demo(newton, 30)`.<br><br>\n",
    "    \n",
    "3. Add a markdown cell with some reflection. Does the algorithm still work with 30 segments? Can you break it by moving the cursor too quickly? What happens in this case?\n",
    "<div>"
   ]
  },
  {
   "cell_type": "code",
   "execution_count": 67,
   "metadata": {
    "execution": {
     "iopub.execute_input": "2023-01-04T03:28:28.226223Z",
     "iopub.status.busy": "2023-01-04T03:28:28.225868Z",
     "iopub.status.idle": "2023-01-04T03:28:28.227231Z",
     "shell.execute_reply": "2023-01-04T03:28:28.227485Z"
    },
    "scrolled": false
   },
   "outputs": [
    {
     "data": {
      "application/vnd.jupyter.widget-view+json": {
       "model_id": "827d36cdc4fa47158ca62d04e7fd900c",
       "version_major": 2,
       "version_minor": 0
      },
      "text/plain": [
       "Figure(fig_margin={'top': 60, 'bottom': 60, 'left': 60, 'right': 60}, layout=Layout(height='500px', width='500…"
      ]
     },
     "execution_count": 67,
     "metadata": {},
     "output_type": "execute_result"
    }
   ],
   "source": [
    "# TODO\n",
    "ik_demo(newton, 4)"
   ]
  },
  {
   "cell_type": "code",
   "execution_count": 68,
   "metadata": {
    "execution": {
     "iopub.execute_input": "2023-01-04T03:28:28.229269Z",
     "iopub.status.busy": "2023-01-04T03:28:28.228939Z",
     "iopub.status.idle": "2023-01-04T03:28:28.230278Z",
     "shell.execute_reply": "2023-01-04T03:28:28.230509Z"
    },
    "scrolled": false
   },
   "outputs": [
    {
     "data": {
      "application/vnd.jupyter.widget-view+json": {
       "model_id": "afadef831e44412aa9148c0667a1665a",
       "version_major": 2,
       "version_minor": 0
      },
      "text/plain": [
       "Figure(fig_margin={'top': 60, 'bottom': 60, 'left': 60, 'right': 60}, layout=Layout(height='500px', width='500…"
      ]
     },
     "execution_count": 68,
     "metadata": {},
     "output_type": "execute_result"
    }
   ],
   "source": [
    "# TODO\n",
    "ik_demo(newton, 30)"
   ]
  },
  {
   "cell_type": "markdown",
   "metadata": {},
   "source": [
    "reflection: Although newtons method is very good for getting very close to the accurate answer, one of its major issues is its high computuation time. When there are just 4 segements, it isn't a major issue, but when there are a large amount of segments (for example, 30 segments) It creates issues with a high computational cost. The more you move the cursor and the faster you move it around, the more it starts to have issues. Even with just 4 segments, there was a lag between the cursor and the segments catching up to it. This was a good way of visualizing some of the limitations of Newton's method."
   ]
  },
  {
   "cell_type": "markdown",
   "metadata": {},
   "source": [
    "## Submitting your work\n",
    "\n",
    "Before handing in via Canvas, make sure:\n",
    "  * your notebook runs from top to bottom after selecting \"Kernel->Restart & Run All\" without causing any errors. To simplify the grading process, please do **not** clear the generated output.\n",
    "  * you've included any scans/images that your notebook references.\n",
    "  * you've renamed the provided notebook according to your name and netid as: **[YourFirstName]\\_[YourLastName]\\_[YourNetId]\\_[Assignment].ipynb**. For example, if John Doe has netid **F00237S**, his submission filename for PA1 should be **John_Doe_F00237S_PA1.ipynb**."
   ]
  }
 ],
 "metadata": {
  "anaconda-cloud": {},
  "kernelspec": {
   "display_name": "Python 3 (ipykernel)",
   "language": "python",
   "name": "python3"
  },
  "language_info": {
   "codemirror_mode": {
    "name": "ipython",
    "version": 3
   },
   "file_extension": ".py",
   "mimetype": "text/x-python",
   "name": "python",
   "nbconvert_exporter": "python",
   "pygments_lexer": "ipython3",
   "version": "3.8.19"
  },
  "widgets": {
   "application/vnd.jupyter.widget-state+json": {
    "state": {
     "239e3a8bf95a45308ae1d891a888668e": {
      "model_module": "bqplot",
      "model_module_version": "^0.5.32",
      "model_name": "LinearScaleModel",
      "state": {
       "_model_module": "bqplot",
       "_model_module_version": "^0.5.32",
       "_model_name": "LinearScaleModel",
       "_view_count": null,
       "_view_module": "bqplot",
       "_view_module_version": "^0.5.32",
       "_view_name": "LinearScale",
       "allow_padding": false,
       "max": 1,
       "mid_range": 0.8,
       "min": 0,
       "min_range": 0.6,
       "reverse": false,
       "stabilized": false
      }
     },
     "5a4eec5c544a4af69bbb9799cd89c2a6": {
      "buffers": [
       {
        "data": "AQAAAAIAAAADAAAABAAAAAUAAAA=",
        "encoding": "base64",
        "path": [
         "sizes",
         "value"
        ]
       }
      ],
      "model_module": "bqplot",
      "model_module_version": "^0.5.32",
      "model_name": "PieModel",
      "state": {
       "_model_module": "bqplot",
       "_model_module_version": "^0.5.32",
       "_model_name": "PieModel",
       "_view_count": null,
       "_view_module": "bqplot",
       "_view_module_version": "^0.5.32",
       "_view_name": "Pie",
       "apply_clip": true,
       "color": null,
       "colors": [
        "#1f77b4",
        "#ff7f0e",
        "#2ca02c",
        "#d62728",
        "#9467bd",
        "#8c564b",
        "#e377c2",
        "#7f7f7f",
        "#bcbd22",
        "#17becf"
       ],
       "display_labels": "inside",
       "display_legend": false,
       "display_values": false,
       "enable_hover": true,
       "end_angle": 360,
       "font_size": "12px",
       "font_weight": "normal",
       "inner_radius": 0.1,
       "interactions": {
        "hover": "tooltip"
       },
       "label_color": null,
       "labels": [],
       "opacities": [],
       "preserve_domain": {},
       "radius": 180,
       "scales": {},
       "scales_metadata": {
        "color": {
         "dimension": "color"
        }
       },
       "selected": null,
       "selected_style": {},
       "sizes": {
        "dtype": "int32",
        "shape": [
         5
        ],
        "type": null,
        "value": {}
       },
       "sort": false,
       "start_angle": 0,
       "stroke": null,
       "tooltip": null,
       "tooltip_location": "mouse",
       "tooltip_style": {
        "opacity": 0.9
       },
       "unselected_style": {},
       "values_format": ".1f",
       "visible": true,
       "x": 0.5,
       "y": 0.5
      }
     },
     "761e0ff82b1d4931b6b7c4db2b2762ff": {
      "model_module": "bqplot",
      "model_module_version": "^0.5.32",
      "model_name": "FigureModel",
      "state": {
       "_dom_classes": [],
       "_model_module": "bqplot",
       "_model_module_version": "^0.5.32",
       "_model_name": "FigureModel",
       "_view_count": null,
       "_view_module": "bqplot",
       "_view_module_version": "^0.5.32",
       "_view_name": "Figure",
       "animation_duration": 0,
       "axes": [],
       "background_style": {},
       "fig_margin": {
        "bottom": 60,
        "left": 60,
        "right": 60,
        "top": 60
       },
       "interaction": null,
       "layout": "IPY_MODEL_f91dd9fe11cd4345b901155f2c5365be",
       "legend_location": "top-right",
       "legend_style": {},
       "legend_text": {},
       "marks": [
        "IPY_MODEL_5a4eec5c544a4af69bbb9799cd89c2a6"
       ],
       "max_aspect_ratio": 100,
       "min_aspect_ratio": 0.01,
       "padding_x": 0,
       "padding_y": 0.025,
       "pixel_ratio": null,
       "scale_x": "IPY_MODEL_d2449f013bf34cd4ac81f9ee4df62b55",
       "scale_y": "IPY_MODEL_239e3a8bf95a45308ae1d891a888668e",
       "theme": "classic",
       "title": "A pie chart!",
       "title_style": {}
      }
     },
     "d2449f013bf34cd4ac81f9ee4df62b55": {
      "model_module": "bqplot",
      "model_module_version": "^0.5.32",
      "model_name": "LinearScaleModel",
      "state": {
       "_model_module": "bqplot",
       "_model_module_version": "^0.5.32",
       "_model_name": "LinearScaleModel",
       "_view_count": null,
       "_view_module": "bqplot",
       "_view_module_version": "^0.5.32",
       "_view_name": "LinearScale",
       "allow_padding": false,
       "max": 1,
       "mid_range": 0.8,
       "min": 0,
       "min_range": 0.6,
       "reverse": false,
       "stabilized": false
      }
     },
     "f91dd9fe11cd4345b901155f2c5365be": {
      "model_module": "@jupyter-widgets/base",
      "model_module_version": "1.2.0",
      "model_name": "LayoutModel",
      "state": {
       "_model_module": "@jupyter-widgets/base",
       "_model_module_version": "1.2.0",
       "_model_name": "LayoutModel",
       "_view_count": null,
       "_view_module": "@jupyter-widgets/base",
       "_view_module_version": "1.2.0",
       "_view_name": "LayoutView",
       "align_content": null,
       "align_items": null,
       "align_self": null,
       "border": null,
       "bottom": null,
       "display": null,
       "flex": null,
       "flex_flow": null,
       "grid_area": null,
       "grid_auto_columns": null,
       "grid_auto_flow": null,
       "grid_auto_rows": null,
       "grid_column": null,
       "grid_gap": null,
       "grid_row": null,
       "grid_template_areas": null,
       "grid_template_columns": null,
       "grid_template_rows": null,
       "height": null,
       "justify_content": null,
       "justify_items": null,
       "left": null,
       "margin": null,
       "max_height": null,
       "max_width": null,
       "min_height": null,
       "min_width": null,
       "object_fit": null,
       "object_position": null,
       "order": null,
       "overflow": null,
       "overflow_x": null,
       "overflow_y": null,
       "padding": null,
       "right": null,
       "top": null,
       "visibility": null,
       "width": null
      }
     }
    },
    "version_major": 2,
    "version_minor": 0
   }
  }
 },
 "nbformat": 4,
 "nbformat_minor": 1
}
